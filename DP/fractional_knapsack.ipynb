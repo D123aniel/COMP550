{
 "cells": [
  {
   "cell_type": "code",
   "execution_count": 7,
   "metadata": {},
   "outputs": [],
   "source": [
    "v = [1,4,4]\n",
    "w = [2,3,4]\n",
    "B = 8"
   ]
  },
  {
   "cell_type": "code",
   "execution_count": 8,
   "metadata": {},
   "outputs": [],
   "source": [
    "def solve_frac_knapsack(v,w,B):\n",
    "    combined = []\n",
    "    for i in range(len(v)):\n",
    "        combined.append((v[i], w[i]))\n",
    "    combined.sort(key = lambda x: x[0]/x[1], reverse = True)\n",
    "    s = [0]*len(combined)\n",
    "    total = 0\n",
    "    for i in range(len(combined)):\n",
    "        if total + combined[i][1] <= B:\n",
    "            s[i] = 1\n",
    "            total += combined[i][1]\n",
    "        elif total < B:\n",
    "            s[i] = (B - total)/combined[i][1]\n",
    "            total = B\n",
    "        else: \n",
    "            break\n",
    "    print(\"Fractions: \", s)\n",
    "    sum = 0\n",
    "    for i in range(len(s)):\n",
    "        sum += s[i]*combined[i][0]\n",
    "    return sum\n"
   ]
  },
  {
   "cell_type": "code",
   "execution_count": 9,
   "metadata": {},
   "outputs": [
    {
     "name": "stdout",
     "output_type": "stream",
     "text": [
      "Fractions:  [1, 1, 0.5]\n",
      "8.5\n"
     ]
    }
   ],
   "source": [
    "print(solve_frac_knapsack(v,w,B))"
   ]
  },
  {
   "cell_type": "code",
   "execution_count": null,
   "metadata": {},
   "outputs": [],
   "source": []
  }
 ],
 "metadata": {
  "kernelspec": {
   "display_name": "Python 3",
   "language": "python",
   "name": "python3"
  },
  "language_info": {
   "codemirror_mode": {
    "name": "ipython",
    "version": 3
   },
   "file_extension": ".py",
   "mimetype": "text/x-python",
   "name": "python",
   "nbconvert_exporter": "python",
   "pygments_lexer": "ipython3",
   "version": "3.13.1"
  }
 },
 "nbformat": 4,
 "nbformat_minor": 2
}
