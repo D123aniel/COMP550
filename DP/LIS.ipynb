{
 "cells": [
  {
   "cell_type": "code",
   "execution_count": 1,
   "metadata": {},
   "outputs": [],
   "source": [
    "A = [14, 84, 76, 26, 50, 45, 65, 79, 10, 3, 83, 43, 76, 1, 45, 72, 23, 94, 90, 4, 3, 54, 93, 38, 22, 42, 3, 22, 44, 50, 24, 23, 22, 46, 29, 3, 83, 56, 64, 19, 99, 86, 12, 33, 72, 71, 93, 42, 83, 67, 31, 59, 88, 84, 51, 59, 4, 25, 79, 42, 18, 55, 70, 67, 38, 44, 51, 78, 52, 39, 49, 3, 5, 70, 98, 59, 39, 17, 50, 98, 77, 54, 86, 23, 51, 95, 58, 46, 27, 55, 95, 1, 78, 82, 88, 74, 81, 52, 56, 43]"
   ]
  },
  {
   "cell_type": "code",
   "execution_count": 2,
   "metadata": {},
   "outputs": [
    {
     "name": "stdout",
     "output_type": "stream",
     "text": [
      "15\n",
      "[1, 2, 2, 2, 3, 3, 4, 5, 1, 1, 6, 3, 5, 1, 4, 5, 2, 7, 7, 2, 2, 5, 8, 3, 3, 4, 2, 3, 5, 6, 4, 4, 3, 6, 5, 2, 7, 7, 8, 3, 9, 9, 3, 6, 9, 9, 10, 7, 10, 9, 6, 8, 11, 11, 8, 9, 3, 5, 10, 7, 4, 9, 10, 10, 7, 8, 9, 11, 10, 8, 9, 2, 4, 11, 12, 11, 8, 5, 10, 12, 12, 11, 13, 6, 11, 14, 12, 9, 7, 12, 14, 1, 13, 14, 15, 13, 14, 12, 13, 9]\n",
      "[-1, 0, 0, 0, 3, 3, 4, 6, -1, -1, 7, 3, 6, -1, 11, 6, 0, 10, 10, 9, 13, 14, 18, 3, 19, 23, 13, 19, 25, 28, 24, 24, 19, 28, 30, 13, 29, 29, 37, 19, 22, 38, 19, 34, 38, 38, 41, 43, 44, 38, 34, 37, 48, 48, 47, 54, 20, 30, 44, 43, 42, 54, 49, 55, 43, 47, 65, 62, 66, 64, 65, 13, 56, 63, 52, 68, 64, 72, 70, 52, 73, 68, 80, 77, 78, 82, 81, 65, 83, 81, 82, -1, 80, 92, 93, 86, 92, 84, 89, 69]\n"
     ]
    }
   ],
   "source": [
    "d = [1] * len(A)\n",
    "parent = [-1] * len(A)\n",
    "for i in range(1, len(A)):\n",
    "    for j in range(i):\n",
    "        if A[j] < A[i] and d[i] < d[j] + 1:\n",
    "            d[i] = d[j] + 1\n",
    "            parent[i] = j\n",
    "print(max(d))\n",
    "print(d)\n",
    "print(parent)"
   ]
  },
  {
   "cell_type": "code",
   "execution_count": 3,
   "metadata": {},
   "outputs": [
    {
     "name": "stdout",
     "output_type": "stream",
     "text": [
      "94\n",
      "88 82 78 77 70 67 59 51 42 33 29 24 22 4 3 "
     ]
    }
   ],
   "source": [
    "# Print the longest increasing subsequence\n",
    "max_index = d.index(max(d))\n",
    "print(max_index)\n",
    "while max_index != -1:\n",
    "    print(A[max_index], end=\" \")\n",
    "    max_index = parent[max_index]"
   ]
  },
  {
   "cell_type": "code",
   "execution_count": null,
   "metadata": {},
   "outputs": [],
   "source": []
  }
 ],
 "metadata": {
  "kernelspec": {
   "display_name": "Python 3",
   "language": "python",
   "name": "python3"
  },
  "language_info": {
   "codemirror_mode": {
    "name": "ipython",
    "version": 3
   },
   "file_extension": ".py",
   "mimetype": "text/x-python",
   "name": "python",
   "nbconvert_exporter": "python",
   "pygments_lexer": "ipython3",
   "version": "3.13.1"
  }
 },
 "nbformat": 4,
 "nbformat_minor": 2
}
