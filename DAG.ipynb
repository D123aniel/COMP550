{
 "cells": [
  {
   "cell_type": "code",
   "execution_count": 119,
   "metadata": {},
   "outputs": [],
   "source": [
    "from ipynb.fs.full.topo_sort import topological_sort"
   ]
  },
  {
   "cell_type": "code",
   "execution_count": 120,
   "metadata": {},
   "outputs": [],
   "source": [
    "G_weighted = [[[2, 3], [3, 5], [4, 6]], [[3, 4]], [[4, -1]], []]\n",
    "s = 0"
   ]
  },
  {
   "cell_type": "code",
   "execution_count": 121,
   "metadata": {},
   "outputs": [],
   "source": [
    "def topological_sort_weighted(G):\n",
    "    R = []\n",
    "    t = 1\n",
    "    pre = [-1] * len(G)\n",
    "    post = [-1] * len(G)\n",
    "    def Explore(G, u):\n",
    "        nonlocal t\n",
    "        pre[u] = t\n",
    "        t =t + 1\n",
    "        for v in G[u]:\n",
    "            if pre[v[0]-1] == -1:\n",
    "                Explore(G, v[0]-1)\n",
    "        post[u] = t\n",
    "        R.append(u)\n",
    "        t+=1\n",
    "\n",
    "    for u in range(len(G)):\n",
    "        if pre[u] == -1:\n",
    "            Explore(G, u)\n",
    "\n",
    "    return R[::-1]"
   ]
  },
  {
   "cell_type": "code",
   "execution_count": null,
   "metadata": {},
   "outputs": [],
   "source": [
    "def dag_dp(G, s):\n",
    "    V = topological_sort_weighted(G)\n",
    "    print(V)\n",
    "    d = [99999]*len(G)\n",
    "    d[s] = 0\n",
    "    # Reverse edges of G into G_prime\n",
    "    G_prime = [[] for i in range(len(G))]\n",
    "    \n",
    "    for v in range(len(G)): #int\n",
    "        for u in G[v]: #list\n",
    "            G_prime[u[0]-1].append((v, u[1]))\n",
    "    # G prime works\n",
    "    print(G_prime)\n",
    "    for v in V: # int\n",
    "        for u in G_prime[v]: # a single pair\n",
    "            d[v] = min(d[v], d[u[0]] + u[1])\n",
    "    return d"
   ]
  },
  {
   "cell_type": "code",
   "execution_count": 140,
   "metadata": {},
   "outputs": [
    {
     "name": "stdout",
     "output_type": "stream",
     "text": [
      "[0, 1, 2, 3]\n",
      "[[], [(0, 3)], [(0, 5), (1, 4)], [(0, 6), (2, -1)]]\n"
     ]
    },
    {
     "data": {
      "text/plain": [
       "[0, 3, 5, 4]"
      ]
     },
     "execution_count": 140,
     "metadata": {},
     "output_type": "execute_result"
    }
   ],
   "source": [
    "dag_dp([[[2, 3], [3, 5], [4, 6]], [[3, 4]], [[4, -1]], []], 0)"
   ]
  },
  {
   "cell_type": "code",
   "execution_count": null,
   "metadata": {},
   "outputs": [],
   "source": []
  }
 ],
 "metadata": {
  "kernelspec": {
   "display_name": "Python 3",
   "language": "python",
   "name": "python3"
  },
  "language_info": {
   "codemirror_mode": {
    "name": "ipython",
    "version": 3
   },
   "file_extension": ".py",
   "mimetype": "text/x-python",
   "name": "python",
   "nbconvert_exporter": "python",
   "pygments_lexer": "ipython3",
   "version": "3.13.1"
  }
 },
 "nbformat": 4,
 "nbformat_minor": 2
}
