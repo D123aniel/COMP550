{
 "cells": [
  {
   "cell_type": "code",
   "execution_count": 3,
   "metadata": {},
   "outputs": [
    {
     "name": "stdout",
     "output_type": "stream",
     "text": [
      "854.7142857142857\n"
     ]
    }
   ],
   "source": [
    "def fractional_knapsack():\n",
    "    v = [64, 111, 58, 168, 98, 192, 142, 129, 214, 205, 240, 243, 127, 190, 150, 216, 221, 242, 242, 123, 215, 237, 113, 93, 202, 187, 71]\n",
    "    w = [1, 2, 2, 23, 10, 38, 16, 24, 8, 18, 31, 59, 14, 27, 46, 21, 64, 49, 35, 40, 37, 11, 3, 10, 14, 44, 5]\n",
    "    B = 31\n",
    "    vw = []\n",
    "\n",
    "    for i in range(len(v)):\n",
    "        vw.append([v[i],w[i]])\n",
    "\n",
    "    value = 0\n",
    "\n",
    "    vw.sort(key=lambda x: x[0]/x[1], reverse=True)\n",
    "\n",
    "    for i in range(0, len(vw)):\n",
    "        if(vw[i][1] <= B):\n",
    "            B-= vw[i][1]\n",
    "            value += vw[i][0]\n",
    "        else:\n",
    "            value += vw[i][0] * (B/vw[i][1])\n",
    "            break\n",
    "    return value\n",
    "\n",
    "print(fractional_knapsack())"
   ]
  },
  {
   "cell_type": "code",
   "execution_count": null,
   "metadata": {},
   "outputs": [],
   "source": []
  }
 ],
 "metadata": {
  "kernelspec": {
   "display_name": "Python 3",
   "language": "python",
   "name": "python3"
  },
  "language_info": {
   "codemirror_mode": {
    "name": "ipython",
    "version": 3
   },
   "file_extension": ".py",
   "mimetype": "text/x-python",
   "name": "python",
   "nbconvert_exporter": "python",
   "pygments_lexer": "ipython3",
   "version": "3.11.9"
  }
 },
 "nbformat": 4,
 "nbformat_minor": 2
}
