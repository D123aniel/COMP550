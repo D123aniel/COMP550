{
 "cells": [
  {
   "cell_type": "code",
   "execution_count": 7,
   "metadata": {},
   "outputs": [],
   "source": [
    "A = [[9, 37, -49], [-31, 42, 25], [-25, 28, 39], [-47, -15, 38], [2, -42, -35], [-28, -47, -2], [36, 15, 23], [-19, -2, -27], [-12, 41, 47], [-47, 46, -33], [43, -13, 20], [-33, 26, -38], [26, -27, -43], [44, -48, 24], [11, -34, 26], [-20, 46, 40], [-33, -15, -1], [15, -26, 33], [-18, -43, 36], [-48, -33, 9], [-4, 31, -24], [32, -23, -27], [-40, -22, -30], [-36, -38, -12], [17, -3, 44], [49, -18, 16], [19, -5, 11], [18, -42, 46], [8, 2, 20], [-7, 17, -47], [2, -15, 26], [46, -33, -44], [41, -45, 34], [-44, 37, -21], [9, -14, 4], [20, 48, 11], [-3, -38, 14], [46, 40, 33], [-37, 44, -28], [25, 19, -33]]"
   ]
  },
  {
   "cell_type": "code",
   "execution_count": 8,
   "metadata": {},
   "outputs": [
    {
     "name": "stdout",
     "output_type": "stream",
     "text": [
      "vertices: 120 k: 40\n",
      "num_conflict: 71\n",
      "edges: 191\n"
     ]
    }
   ],
   "source": [
    "vertices = 3 * len(A)\n",
    "k = len(A)\n",
    "\n",
    "print(\"vertices:\", vertices, \"k:\", k)\n",
    "\n",
    "num_conflict = 0\n",
    "\n",
    "for i in range(len(A)):\n",
    "    for j in range(len(A[i])):\n",
    "        num = A[i][j]\n",
    "        # scan through all the other vertices\n",
    "        for k in range(len(A)):\n",
    "            if k!=i:\n",
    "                for l in range(len(A[k])):\n",
    "                    if(A[k][l] == num*-1):\n",
    "                        num_conflict += 1\n",
    "                        break\n",
    "\n",
    "num_conflict = num_conflict // 2\n",
    "edges = num_conflict + vertices\n",
    "print(\"num_conflict:\", num_conflict)\n",
    "print(\"edges:\", edges)"
   ]
  },
  {
   "cell_type": "code",
   "execution_count": null,
   "metadata": {},
   "outputs": [],
   "source": []
  }
 ],
 "metadata": {
  "kernelspec": {
   "display_name": "Python 3",
   "language": "python",
   "name": "python3"
  },
  "language_info": {
   "codemirror_mode": {
    "name": "ipython",
    "version": 3
   },
   "file_extension": ".py",
   "mimetype": "text/x-python",
   "name": "python",
   "nbconvert_exporter": "python",
   "pygments_lexer": "ipython3",
   "version": "3.13.1"
  }
 },
 "nbformat": 4,
 "nbformat_minor": 2
}
