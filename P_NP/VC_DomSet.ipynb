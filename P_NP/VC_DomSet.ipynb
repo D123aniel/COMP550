{
 "cells": [
  {
   "cell_type": "code",
   "execution_count": 5,
   "metadata": {},
   "outputs": [],
   "source": [
    "G = [[2, 4, 13, 20, 21, 25], [1, 3, 12, 16, 17, 22, 24, 28, 29], [2, 4, 24, 29], [3, 5, 1, 7, 10, 15, 18, 19, 21, 26], [4, 6, 17, 20, 22], [5, 7, 23, 27], [6, 8, 4, 15, 26, 27, 29], [7, 9, 10, 15, 17, 18, 21, 22], [8, 10, 16, 17, 21, 26, 27, 29], [9, 11, 4, 8, 13, 18, 22, 26, 28, 29], [10, 12, 17, 19, 28, 30], [11, 13, 2, 17, 22, 25], [12, 14, 1, 10, 16, 18, 19, 27], [13, 15, 18, 19, 20, 24], [14, 16, 4, 7, 8, 20, 24, 29, 30], [15, 17, 2, 9, 13], [16, 18, 2, 5, 8, 9, 11, 12, 22, 27, 30], [17, 19, 4, 8, 10, 13, 14, 20, 24, 26, 28], [18, 20, 4, 11, 13, 14, 21, 22, 23, 24], [19, 21, 1, 5, 14, 15, 18, 25, 26, 29], [20, 22, 1, 4, 8, 9, 19], [21, 23, 2, 5, 8, 10, 12, 17, 19, 28], [22, 24, 6, 19], [23, 25, 2, 3, 14, 15, 18, 19], [24, 26, 1, 12, 20], [25, 27, 4, 7, 9, 10, 18, 20, 28, 29], [26, 28, 6, 7, 9, 13, 17], [27, 29, 2, 10, 11, 18, 22, 26], [28, 30, 2, 3, 7, 9, 10, 15, 20, 26], [29, 11, 15, 17]]\n",
    "k = 1"
   ]
  },
  {
   "cell_type": "code",
   "execution_count": 6,
   "metadata": {},
   "outputs": [
    {
     "name": "stdout",
     "output_type": "stream",
     "text": [
      "Prime edges: 339.0\n",
      "Prime vertices: 143.0\n"
     ]
    }
   ],
   "source": [
    "edges = sum(len(x) for x in G)/2\n",
    "vertices = len(G)\n",
    "\n",
    "prime_edges = 3*edges\n",
    "prime_vertices = edges + vertices\n",
    "print(f\"Prime edges: {prime_edges}\")\n",
    "print(f\"Prime vertices: {prime_vertices}\")"
   ]
  },
  {
   "cell_type": "code",
   "execution_count": null,
   "metadata": {},
   "outputs": [],
   "source": []
  }
 ],
 "metadata": {
  "kernelspec": {
   "display_name": "Python 3",
   "language": "python",
   "name": "python3"
  },
  "language_info": {
   "codemirror_mode": {
    "name": "ipython",
    "version": 3
   },
   "file_extension": ".py",
   "mimetype": "text/x-python",
   "name": "python",
   "nbconvert_exporter": "python",
   "pygments_lexer": "ipython3",
   "version": "3.13.1"
  }
 },
 "nbformat": 4,
 "nbformat_minor": 2
}
