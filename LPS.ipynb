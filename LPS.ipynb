{
 "cells": [
  {
   "cell_type": "code",
   "execution_count": 4,
   "metadata": {},
   "outputs": [],
   "source": [
    "A = \"accabbbcaacbcabcaccaabcbabaabbaaabaacbbaccaacccbcc\""
   ]
  },
  {
   "cell_type": "code",
   "execution_count": 5,
   "metadata": {},
   "outputs": [
    {
     "name": "stdout",
     "output_type": "stream",
     "text": [
      "36\n"
     ]
    }
   ],
   "source": [
    "# Create 2d array of size len(A) x len(A)\n",
    "n = len(A) -1\n",
    "d = [[0 for i in range(len(A))] for j in range(len(A))]\n",
    "for i in range(n, -1, -1):\n",
    "    d[i][i] = 1\n",
    "    for j in range(i+1, n+1):\n",
    "        if A[i] == A[j]:\n",
    "            d[i][j] = d[i+1][j-1] + 2\n",
    "        else:\n",
    "            d[i][j] = max(d[i+1][j], d[i][j-1])\n",
    "print(d[0][n])"
   ]
  },
  {
   "cell_type": "code",
   "execution_count": null,
   "metadata": {},
   "outputs": [],
   "source": []
  }
 ],
 "metadata": {
  "kernelspec": {
   "display_name": "Python 3",
   "language": "python",
   "name": "python3"
  },
  "language_info": {
   "codemirror_mode": {
    "name": "ipython",
    "version": 3
   },
   "file_extension": ".py",
   "mimetype": "text/x-python",
   "name": "python",
   "nbconvert_exporter": "python",
   "pygments_lexer": "ipython3",
   "version": "3.13.1"
  }
 },
 "nbformat": 4,
 "nbformat_minor": 2
}
