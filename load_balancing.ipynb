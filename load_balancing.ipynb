{
 "cells": [
  {
   "cell_type": "code",
   "execution_count": 16,
   "id": "e157286c",
   "metadata": {},
   "outputs": [],
   "source": [
    "l = [20, 66, 93, 19, 79, 18, 39, 59, 78, 99, 35, 91, 82, 38, 57, 95, 70, 64, 24, 31, 47, 68, 52, 32, 67, 32, 92, 45, 64, 51, 28, 74, 60, 49, 62, 79, 73, 18, 49, 97, 18, 36, 21, 42, 48, 45, 77, 57, 33, 24, 15, 82, 95, 67, 37, 59, 81, 82, 96, 61, 53, 95, 38, 80, 74, 53, 61, 65, 48, 85, 28, 43, 65, 10, 55, 83, 63, 46, 47, 42, 23, 26, 30, 37, 26, 68, 12, 31, 44, 27, 88, 86, 10, 45, 93, 28, 81, 79, 10, 21]\n",
    "m = 10"
   ]
  },
  {
   "cell_type": "code",
   "execution_count": 18,
   "id": "c52ccf63",
   "metadata": {},
   "outputs": [
    {
     "name": "stdout",
     "output_type": "stream",
     "text": [
      "571\n"
     ]
    }
   ],
   "source": [
    "num_list = l\n",
    "arr = [0] * m\n",
    "min_num = 0\n",
    "min_index = 0\n",
    "for num in num_list:\n",
    "    min_num = __builtins__.min(arr)\n",
    "    min_index = arr.index(min_num)\n",
    "    arr[min_index] += num\n",
    "print(__builtins__.max(arr))"
   ]
  }
 ],
 "metadata": {
  "kernelspec": {
   "display_name": "Python 3",
   "language": "python",
   "name": "python3"
  },
  "language_info": {
   "codemirror_mode": {
    "name": "ipython",
    "version": 3
   },
   "file_extension": ".py",
   "mimetype": "text/x-python",
   "name": "python",
   "nbconvert_exporter": "python",
   "pygments_lexer": "ipython3",
   "version": "3.13.2"
  }
 },
 "nbformat": 4,
 "nbformat_minor": 5
}
