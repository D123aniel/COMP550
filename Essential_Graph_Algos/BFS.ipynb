{
 "cells": [
  {
   "cell_type": "code",
   "execution_count": 44,
   "metadata": {},
   "outputs": [],
   "source": [
    "G = [[42], [17, 22, 28, 33], [43, 54], [8, 12, 31, 42, 57], [30, 39, 48, 55, 56, 60], [11, 46], [12], [9, 24, 29, 37, 45], [10, 23, 25, 50, 55], [], [10, 24, 52], [13, 50], [12, 23, 51, 56], [26, 30, 38, 47], [28, 50, 57], [5, 8, 37, 47, 51, 56], [2, 7, 36, 46, 49], [3, 50], [], [17, 42, 59], [18, 28, 53], [5, 12, 33, 36, 41], [35, 56], [27, 47, 55], [7, 10, 33], [1, 9, 28, 47, 56, 58], [3, 32, 40], [26, 31, 34, 56], [23, 33], [22], [25, 29, 43], [33, 46], [4, 26, 59], [1, 10, 11, 14, 26, 32, 53], [24, 55], [30, 48, 55, 59], [1, 45], [35], [16, 18, 40, 49, 50, 57], [5, 57], [7, 17], [14, 19, 47, 51], [29, 44, 58], [45], [9, 23, 56], [27, 34, 47], [7, 25], [1, 2, 5, 7, 51], [25, 43, 54], [1, 32], [4, 41], [20, 41], [33], [3, 9, 22], [3, 21], [48], [17, 19, 20, 42, 45], [29, 33, 53, 54, 57], [11, 27, 48, 53, 58], [4, 25, 26, 34, 57]]"
   ]
  },
  {
   "cell_type": "code",
   "execution_count": 46,
   "metadata": {},
   "outputs": [],
   "source": [
    "s = 0\n",
    "length = len(G)\n",
    "d = [-1] * length\n",
    "d[0] = 0"
   ]
  },
  {
   "cell_type": "code",
   "execution_count": 47,
   "metadata": {},
   "outputs": [],
   "source": [
    "import queue\n",
    "q = queue.Queue()\n",
    "q.put(s)"
   ]
  },
  {
   "cell_type": "code",
   "execution_count": 48,
   "metadata": {},
   "outputs": [],
   "source": [
    "while not q.empty():\n",
    "    u = q.get()\n",
    "    for v in G[u]:\n",
    "        if(d[v-1] == -1):\n",
    "            d[v-1] = d[u] + 1\n",
    "            q.put(v-1)"
   ]
  },
  {
   "cell_type": "code",
   "execution_count": 49,
   "metadata": {},
   "outputs": [
    {
     "name": "stdout",
     "output_type": "stream",
     "text": [
      "[0, 5, 6, 3, 5, -1, 3, 4, 4, 4, 6, 4, 5, 2, -1, 7, 4, 7, 2, 5, 6, 4, 5, 5, 3, 3, 6, 4, 5, 3, 4, 6, 4, 5, 4, 5, 5, 3, 6, 7, 3, 1, 5, 6, 5, 5, 2, 5, 5, 5, 2, 7, 5, 5, 5, 4, 4, 4, 5, 6]\n"
     ]
    }
   ],
   "source": [
    "print(d)"
   ]
  },
  {
   "cell_type": "code",
   "execution_count": 50,
   "metadata": {},
   "outputs": [
    {
     "name": "stdout",
     "output_type": "stream",
     "text": [
      "[0, 5, 6, 3, 5, -1, 3, 4, 4, 4]\n"
     ]
    }
   ],
   "source": [
    "start = 0\n",
    "end = 9\n",
    "print(d[start:end+1])"
   ]
  },
  {
   "cell_type": "code",
   "execution_count": null,
   "metadata": {},
   "outputs": [],
   "source": []
  }
 ],
 "metadata": {
  "kernelspec": {
   "display_name": "Python 3",
   "language": "python",
   "name": "python3"
  },
  "language_info": {
   "codemirror_mode": {
    "name": "ipython",
    "version": 3
   },
   "file_extension": ".py",
   "mimetype": "text/x-python",
   "name": "python",
   "nbconvert_exporter": "python",
   "pygments_lexer": "ipython3",
   "version": "3.11.9"
  }
 },
 "nbformat": 4,
 "nbformat_minor": 2
}
