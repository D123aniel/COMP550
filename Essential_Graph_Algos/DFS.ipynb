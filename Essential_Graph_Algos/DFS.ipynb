{
 "cells": [
  {
   "cell_type": "code",
   "execution_count": 1,
   "metadata": {},
   "outputs": [],
   "source": [
    "G = [[19, 20, 24], [3, 9, 37], [2, 9, 14], [30], [4, 16, 21, 29, 33], [9, 13, 19, 24, 29, 39], [18, 20, 32, 39], [1, 2, 11, 17, 18, 19, 23, 33, 37], [3, 26, 29, 34, 36, 38], [1, 3, 15], [12, 13, 31, 32], [7, 11, 13, 20, 21, 28, 29], [14, 27, 29], [15, 20, 33], [3, 27], [15, 20, 29, 31], [18, 37, 38], [5, 10, 20, 36, 40], [18, 21, 29], [17, 23, 28], [8, 12, 14, 15, 16, 18, 19, 25, 30, 34, 40], [24, 27, 31, 35], [17, 25, 33, 36], [1, 2, 4, 5, 25, 35, 39], [4, 10, 14, 15, 34, 39], [4, 7, 14, 16, 17, 32], [14, 39], [19, 26], [1, 27], [7, 8, 17, 32, 33], [4, 9, 22, 28, 30, 38], [10, 23, 25, 30, 36, 37], [2, 3, 9, 23, 26, 31], [], [6, 27, 37], [1, 15, 18, 31, 32, 39], [7, 10, 15, 19, 22, 27, 29, 31], [5, 11, 27, 33], [2, 8, 20, 24, 40], [9, 11, 14, 16, 36]]\n",
    "pre = [-1] * len(G)\n",
    "post = [-1] * len(G)\n",
    "t = 1"
   ]
  },
  {
   "cell_type": "code",
   "execution_count": 2,
   "metadata": {},
   "outputs": [],
   "source": [
    "def Explore(G, u):\n",
    "    global t\n",
    "    pre[u] = t\n",
    "    t =t + 1\n",
    "    for v in G[u]:\n",
    "        if pre[v-1] == -1:\n",
    "            Explore(G, v-1)\n",
    "    post[u] = t\n",
    "    t+=1"
   ]
  },
  {
   "cell_type": "code",
   "execution_count": 3,
   "metadata": {},
   "outputs": [],
   "source": [
    "for u in range(len(G)):\n",
    "    if pre[u] == -1:\n",
    "        Explore(G, u)\n",
    "\n",
    "# u is 0-indexed, while G values are 1-indexed"
   ]
  },
  {
   "cell_type": "code",
   "execution_count": 32,
   "metadata": {},
   "outputs": [
    {
     "name": "stdout",
     "output_type": "stream",
     "text": [
      "[1, 13, 12, 5, 4, 37, 7, 20, 14, 11]\n",
      "[80, 68, 69, 76, 77, 38, 74, 61, 67, 70]\n"
     ]
    }
   ],
   "source": [
    "start = 0\n",
    "stop = 10\n",
    "print(pre[start:stop])\n",
    "print(post[start:stop])"
   ]
  },
  {
   "cell_type": "code",
   "execution_count": 36,
   "metadata": {},
   "outputs": [
    {
     "name": "stdout",
     "output_type": "stream",
     "text": [
      "84\n"
     ]
    }
   ],
   "source": [
    "# Find the number of back edges\n",
    "back_edges = 0\n",
    "for u in range(len(G)):\n",
    "    for v in G[u]:\n",
    "        if pre[v-1] < pre[u] and pre[u] < post[u] and post[u] < post[v-1]:\n",
    "            back_edges += 1\n",
    "print(back_edges)"
   ]
  },
  {
   "cell_type": "code",
   "execution_count": null,
   "metadata": {},
   "outputs": [],
   "source": []
  }
 ],
 "metadata": {
  "kernelspec": {
   "display_name": "Python 3",
   "language": "python",
   "name": "python3"
  },
  "language_info": {
   "codemirror_mode": {
    "name": "ipython",
    "version": 3
   },
   "file_extension": ".py",
   "mimetype": "text/x-python",
   "name": "python",
   "nbconvert_exporter": "python",
   "pygments_lexer": "ipython3",
   "version": "3.13.1"
  }
 },
 "nbformat": 4,
 "nbformat_minor": 2
}
