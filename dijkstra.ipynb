{
 "cells": [
  {
   "cell_type": "code",
   "execution_count": 31,
   "metadata": {},
   "outputs": [],
   "source": [
    "G = [[[2, 58], [27, 96]], [[3, 64], [7, 51], [9, 91], [16, 82], [17, 77], [19, 62]], [[4, 93], [23, 85], [26, 86], [28, 92], [30, 50]], [[3, 97], [5, 82]], [[6, 50], [15, 92]], [[7, 95], [11, 90], [22, 53], [26, 97]], [[4, 79], [8, 99], [27, 58]], [[2, 72], [3, 93], [9, 52], [12, 63], [20, 99], [21, 81]], [[10, 86]], [[1, 84], [2, 68], [11, 68]], [[8, 52], [12, 87]], [[5, 61], [13, 88], [17, 52], [23, 94]], [[12, 86], [14, 51]], [[8, 91], [15, 73], [28, 86]], [[2, 96], [12, 66], [16, 55], [17, 58], [18, 89], [23, 74], [24, 77], [26, 78], [28, 63]], [[17, 67]], [[2, 51], [6, 98], [18, 95]], [[4, 79], [7, 95], [8, 69], [16, 71], [19, 87], [20, 94]], [[1, 67], [20, 72]], [[5, 92], [21, 71], [30, 98]], [[8, 59], [22, 56], [25, 61]], [[14, 65], [23, 63], [24, 52]], [[19, 99], [24, 90]], [[11, 72], [16, 54], [22, 59], [25, 63]], [[3, 52], [26, 65], [29, 82]], [[1, 87], [11, 68], [27, 83]], [[1, 70], [21, 91], [28, 51]], [[2, 61], [4, 89], [29, 77]], [[2, 62], [6, 66], [18, 50], [27, 84], [30, 85]], [[3, 83], [11, 60]]]\n",
    "s = 1"
   ]
  },
  {
   "cell_type": "code",
   "execution_count": 32,
   "metadata": {},
   "outputs": [],
   "source": [
    "def dijkstra(G,s):\n",
    "    d = [999999] * len(G)\n",
    "    d[s] = 0\n",
    "    S = []\n",
    "    while len(S) < len(G):\n",
    "        current_min = 999999\n",
    "        u = 0\n",
    "        for i in range(len(G)):\n",
    "            if i not in S and d[i] < current_min:\n",
    "                current_min = d[i]\n",
    "                u = i\n",
    "        S.append(u)\n",
    "        for v in G[u]:\n",
    "            d[v[0]-1] = min(d[v[0]-1], d[u] + v[1])\n",
    "    return d"
   ]
  },
  {
   "cell_type": "code",
   "execution_count": 33,
   "metadata": {},
   "outputs": [
    {
     "name": "stdout",
     "output_type": "stream",
     "text": [
      "58 270 235 "
     ]
    }
   ],
   "source": [
    "s-=1\n",
    "num_list = [2,5,10]\n",
    "for i in num_list:\n",
    "    print(dijkstra(G,s)[i-1], end=' ')\n"
   ]
  },
  {
   "cell_type": "code",
   "execution_count": null,
   "metadata": {},
   "outputs": [],
   "source": []
  }
 ],
 "metadata": {
  "kernelspec": {
   "display_name": "Python 3",
   "language": "python",
   "name": "python3"
  },
  "language_info": {
   "codemirror_mode": {
    "name": "ipython",
    "version": 3
   },
   "file_extension": ".py",
   "mimetype": "text/x-python",
   "name": "python",
   "nbconvert_exporter": "python",
   "pygments_lexer": "ipython3",
   "version": "3.13.1"
  }
 },
 "nbformat": 4,
 "nbformat_minor": 2
}
