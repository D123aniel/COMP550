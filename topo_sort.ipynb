{
 "cells": [
  {
   "cell_type": "code",
   "execution_count": 14,
   "metadata": {},
   "outputs": [],
   "source": [
    "G = [[2],[],[2],[1,2],[3,4]]"
   ]
  },
  {
   "cell_type": "code",
   "execution_count": 15,
   "metadata": {},
   "outputs": [],
   "source": [
    "def topological_sort(G):\n",
    "    R = []\n",
    "    t = 1\n",
    "    pre = [-1] * len(G)\n",
    "    post = [-1] * len(G)\n",
    "    def Explore(G, u):\n",
    "        nonlocal t\n",
    "        pre[u] = t\n",
    "        t =t + 1\n",
    "        for v in G[u]:\n",
    "            if pre[v-1] == -1:\n",
    "                Explore(G, v-1)\n",
    "        post[u] = t\n",
    "        R.append(u)\n",
    "        t+=1\n",
    "\n",
    "    for u in range(len(G)):\n",
    "        if pre[u] == -1:\n",
    "            Explore(G, u)\n",
    "\n",
    "    return R[::-1]"
   ]
  },
  {
   "cell_type": "code",
   "execution_count": 16,
   "metadata": {},
   "outputs": [
    {
     "data": {
      "text/plain": [
       "[4, 3, 2, 0, 1]"
      ]
     },
     "execution_count": 16,
     "metadata": {},
     "output_type": "execute_result"
    }
   ],
   "source": [
    "topological_sort(G)"
   ]
  },
  {
   "cell_type": "code",
   "execution_count": null,
   "metadata": {},
   "outputs": [],
   "source": []
  }
 ],
 "metadata": {
  "kernelspec": {
   "display_name": "Python 3",
   "language": "python",
   "name": "python3"
  },
  "language_info": {
   "codemirror_mode": {
    "name": "ipython",
    "version": 3
   },
   "file_extension": ".py",
   "mimetype": "text/x-python",
   "name": "python",
   "nbconvert_exporter": "python",
   "pygments_lexer": "ipython3",
   "version": "3.13.1"
  }
 },
 "nbformat": 4,
 "nbformat_minor": 2
}
